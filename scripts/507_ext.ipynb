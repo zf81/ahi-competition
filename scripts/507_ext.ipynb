{
  "nbformat": 4,
  "nbformat_minor": 0,
  "metadata": {
    "colab": {
      "provenance": []
    },
    "kernelspec": {
      "name": "python3",
      "display_name": "Python 3"
    },
    "language_info": {
      "name": "python"
    }
  },
  "cells": [
    {
      "cell_type": "code",
      "execution_count": 1,
      "metadata": {
        "id": "9JQhLdENm6gk"
      },
      "outputs": [],
      "source": [
        "import pandas as pd\n",
        "import numpy as np\n",
        "import matplotlib.pyplot as plt\n",
        "%matplotlib inline "
      ]
    },
    {
      "cell_type": "code",
      "source": [
        "# Load data to a dataframe\n",
        "external = pd.read_csv('/content/External_Dataset.csv')\n",
        "external.shape"
      ],
      "metadata": {
        "colab": {
          "base_uri": "https://localhost:8080/"
        },
        "id": "DiZlAVD-oOu_",
        "outputId": "8b8a4d82-cd44-416b-a6c7-ab2e6d75d375"
      },
      "execution_count": 2,
      "outputs": [
        {
          "output_type": "execute_result",
          "data": {
            "text/plain": [
              "(110527, 14)"
            ]
          },
          "metadata": {},
          "execution_count": 2
        }
      ]
    },
    {
      "cell_type": "code",
      "source": [
        "external.columns"
      ],
      "metadata": {
        "colab": {
          "base_uri": "https://localhost:8080/"
        },
        "id": "Oa0EI0UIoa2I",
        "outputId": "835030dd-0131-4ba1-d3aa-ee75ac45c145"
      },
      "execution_count": 3,
      "outputs": [
        {
          "output_type": "execute_result",
          "data": {
            "text/plain": [
              "Index(['PatientId', 'AppointmentID', 'Gender', 'ScheduledDay',\n",
              "       'AppointmentDay', 'Age', 'Neighbourhood', 'Scholarship', 'Hipertension',\n",
              "       'Diabetes', 'Alcoholism', 'Handcap', 'SMS_received', 'No-show'],\n",
              "      dtype='object')"
            ]
          },
          "metadata": {},
          "execution_count": 3
        }
      ]
    },
    {
      "cell_type": "code",
      "source": [
        "# Correcting spelling errors in column names and adjusting format \n",
        "external.columns = ['patient_id', 'appointment_id', 'patient_gender', 'scheduled_day', \n",
        "              'appointment_day', 'patient_age', 'neighbourhood', 'scholarship', 'hypertension',\n",
        "              'diabetes', 'alcoholism', 'handicap', 'sms_received', 'no_show']\n",
        "external.columns"
      ],
      "metadata": {
        "colab": {
          "base_uri": "https://localhost:8080/"
        },
        "id": "mqy3tmuToffo",
        "outputId": "34d5110c-a01a-42cf-9e14-5c96a49672c4"
      },
      "execution_count": 4,
      "outputs": [
        {
          "output_type": "execute_result",
          "data": {
            "text/plain": [
              "Index(['patient_id', 'appointment_id', 'patient_gender', 'scheduled_day',\n",
              "       'appointment_day', 'patient_age', 'neighbourhood', 'scholarship',\n",
              "       'hypertension', 'diabetes', 'alcoholism', 'handicap', 'sms_received',\n",
              "       'no_show'],\n",
              "      dtype='object')"
            ]
          },
          "metadata": {},
          "execution_count": 4
        }
      ]
    },
    {
      "cell_type": "code",
      "source": [
        "external.head()"
      ],
      "metadata": {
        "colab": {
          "base_uri": "https://localhost:8080/",
          "height": 357
        },
        "id": "0HtH9pUiopXA",
        "outputId": "93ef1812-471a-489a-88d1-7c6755838770"
      },
      "execution_count": 5,
      "outputs": [
        {
          "output_type": "execute_result",
          "data": {
            "text/plain": [
              "     patient_id  appointment_id patient_gender         scheduled_day  \\\n",
              "0  2.987250e+13         5642903              F  2016-04-29T18:38:08Z   \n",
              "1  5.589978e+14         5642503              M  2016-04-29T16:08:27Z   \n",
              "2  4.262962e+12         5642549              F  2016-04-29T16:19:04Z   \n",
              "3  8.679512e+11         5642828              F  2016-04-29T17:29:31Z   \n",
              "4  8.841186e+12         5642494              F  2016-04-29T16:07:23Z   \n",
              "\n",
              "        appointment_day  patient_age      neighbourhood  scholarship  \\\n",
              "0  2016-04-29T00:00:00Z           62    JARDIM DA PENHA            0   \n",
              "1  2016-04-29T00:00:00Z           56    JARDIM DA PENHA            0   \n",
              "2  2016-04-29T00:00:00Z           62      MATA DA PRAIA            0   \n",
              "3  2016-04-29T00:00:00Z            8  PONTAL DE CAMBURI            0   \n",
              "4  2016-04-29T00:00:00Z           56    JARDIM DA PENHA            0   \n",
              "\n",
              "   hypertension  diabetes  alcoholism  handicap  sms_received no_show  \n",
              "0             1         0           0         0             0      No  \n",
              "1             0         0           0         0             0      No  \n",
              "2             0         0           0         0             0      No  \n",
              "3             0         0           0         0             0      No  \n",
              "4             1         1           0         0             0      No  "
            ],
            "text/html": [
              "\n",
              "  <div id=\"df-6f2a9174-83d7-46ca-8511-b19d5f150f48\">\n",
              "    <div class=\"colab-df-container\">\n",
              "      <div>\n",
              "<style scoped>\n",
              "    .dataframe tbody tr th:only-of-type {\n",
              "        vertical-align: middle;\n",
              "    }\n",
              "\n",
              "    .dataframe tbody tr th {\n",
              "        vertical-align: top;\n",
              "    }\n",
              "\n",
              "    .dataframe thead th {\n",
              "        text-align: right;\n",
              "    }\n",
              "</style>\n",
              "<table border=\"1\" class=\"dataframe\">\n",
              "  <thead>\n",
              "    <tr style=\"text-align: right;\">\n",
              "      <th></th>\n",
              "      <th>patient_id</th>\n",
              "      <th>appointment_id</th>\n",
              "      <th>patient_gender</th>\n",
              "      <th>scheduled_day</th>\n",
              "      <th>appointment_day</th>\n",
              "      <th>patient_age</th>\n",
              "      <th>neighbourhood</th>\n",
              "      <th>scholarship</th>\n",
              "      <th>hypertension</th>\n",
              "      <th>diabetes</th>\n",
              "      <th>alcoholism</th>\n",
              "      <th>handicap</th>\n",
              "      <th>sms_received</th>\n",
              "      <th>no_show</th>\n",
              "    </tr>\n",
              "  </thead>\n",
              "  <tbody>\n",
              "    <tr>\n",
              "      <th>0</th>\n",
              "      <td>2.987250e+13</td>\n",
              "      <td>5642903</td>\n",
              "      <td>F</td>\n",
              "      <td>2016-04-29T18:38:08Z</td>\n",
              "      <td>2016-04-29T00:00:00Z</td>\n",
              "      <td>62</td>\n",
              "      <td>JARDIM DA PENHA</td>\n",
              "      <td>0</td>\n",
              "      <td>1</td>\n",
              "      <td>0</td>\n",
              "      <td>0</td>\n",
              "      <td>0</td>\n",
              "      <td>0</td>\n",
              "      <td>No</td>\n",
              "    </tr>\n",
              "    <tr>\n",
              "      <th>1</th>\n",
              "      <td>5.589978e+14</td>\n",
              "      <td>5642503</td>\n",
              "      <td>M</td>\n",
              "      <td>2016-04-29T16:08:27Z</td>\n",
              "      <td>2016-04-29T00:00:00Z</td>\n",
              "      <td>56</td>\n",
              "      <td>JARDIM DA PENHA</td>\n",
              "      <td>0</td>\n",
              "      <td>0</td>\n",
              "      <td>0</td>\n",
              "      <td>0</td>\n",
              "      <td>0</td>\n",
              "      <td>0</td>\n",
              "      <td>No</td>\n",
              "    </tr>\n",
              "    <tr>\n",
              "      <th>2</th>\n",
              "      <td>4.262962e+12</td>\n",
              "      <td>5642549</td>\n",
              "      <td>F</td>\n",
              "      <td>2016-04-29T16:19:04Z</td>\n",
              "      <td>2016-04-29T00:00:00Z</td>\n",
              "      <td>62</td>\n",
              "      <td>MATA DA PRAIA</td>\n",
              "      <td>0</td>\n",
              "      <td>0</td>\n",
              "      <td>0</td>\n",
              "      <td>0</td>\n",
              "      <td>0</td>\n",
              "      <td>0</td>\n",
              "      <td>No</td>\n",
              "    </tr>\n",
              "    <tr>\n",
              "      <th>3</th>\n",
              "      <td>8.679512e+11</td>\n",
              "      <td>5642828</td>\n",
              "      <td>F</td>\n",
              "      <td>2016-04-29T17:29:31Z</td>\n",
              "      <td>2016-04-29T00:00:00Z</td>\n",
              "      <td>8</td>\n",
              "      <td>PONTAL DE CAMBURI</td>\n",
              "      <td>0</td>\n",
              "      <td>0</td>\n",
              "      <td>0</td>\n",
              "      <td>0</td>\n",
              "      <td>0</td>\n",
              "      <td>0</td>\n",
              "      <td>No</td>\n",
              "    </tr>\n",
              "    <tr>\n",
              "      <th>4</th>\n",
              "      <td>8.841186e+12</td>\n",
              "      <td>5642494</td>\n",
              "      <td>F</td>\n",
              "      <td>2016-04-29T16:07:23Z</td>\n",
              "      <td>2016-04-29T00:00:00Z</td>\n",
              "      <td>56</td>\n",
              "      <td>JARDIM DA PENHA</td>\n",
              "      <td>0</td>\n",
              "      <td>1</td>\n",
              "      <td>1</td>\n",
              "      <td>0</td>\n",
              "      <td>0</td>\n",
              "      <td>0</td>\n",
              "      <td>No</td>\n",
              "    </tr>\n",
              "  </tbody>\n",
              "</table>\n",
              "</div>\n",
              "      <button class=\"colab-df-convert\" onclick=\"convertToInteractive('df-6f2a9174-83d7-46ca-8511-b19d5f150f48')\"\n",
              "              title=\"Convert this dataframe to an interactive table.\"\n",
              "              style=\"display:none;\">\n",
              "        \n",
              "  <svg xmlns=\"http://www.w3.org/2000/svg\" height=\"24px\"viewBox=\"0 0 24 24\"\n",
              "       width=\"24px\">\n",
              "    <path d=\"M0 0h24v24H0V0z\" fill=\"none\"/>\n",
              "    <path d=\"M18.56 5.44l.94 2.06.94-2.06 2.06-.94-2.06-.94-.94-2.06-.94 2.06-2.06.94zm-11 1L8.5 8.5l.94-2.06 2.06-.94-2.06-.94L8.5 2.5l-.94 2.06-2.06.94zm10 10l.94 2.06.94-2.06 2.06-.94-2.06-.94-.94-2.06-.94 2.06-2.06.94z\"/><path d=\"M17.41 7.96l-1.37-1.37c-.4-.4-.92-.59-1.43-.59-.52 0-1.04.2-1.43.59L10.3 9.45l-7.72 7.72c-.78.78-.78 2.05 0 2.83L4 21.41c.39.39.9.59 1.41.59.51 0 1.02-.2 1.41-.59l7.78-7.78 2.81-2.81c.8-.78.8-2.07 0-2.86zM5.41 20L4 18.59l7.72-7.72 1.47 1.35L5.41 20z\"/>\n",
              "  </svg>\n",
              "      </button>\n",
              "      \n",
              "  <style>\n",
              "    .colab-df-container {\n",
              "      display:flex;\n",
              "      flex-wrap:wrap;\n",
              "      gap: 12px;\n",
              "    }\n",
              "\n",
              "    .colab-df-convert {\n",
              "      background-color: #E8F0FE;\n",
              "      border: none;\n",
              "      border-radius: 50%;\n",
              "      cursor: pointer;\n",
              "      display: none;\n",
              "      fill: #1967D2;\n",
              "      height: 32px;\n",
              "      padding: 0 0 0 0;\n",
              "      width: 32px;\n",
              "    }\n",
              "\n",
              "    .colab-df-convert:hover {\n",
              "      background-color: #E2EBFA;\n",
              "      box-shadow: 0px 1px 2px rgba(60, 64, 67, 0.3), 0px 1px 3px 1px rgba(60, 64, 67, 0.15);\n",
              "      fill: #174EA6;\n",
              "    }\n",
              "\n",
              "    [theme=dark] .colab-df-convert {\n",
              "      background-color: #3B4455;\n",
              "      fill: #D2E3FC;\n",
              "    }\n",
              "\n",
              "    [theme=dark] .colab-df-convert:hover {\n",
              "      background-color: #434B5C;\n",
              "      box-shadow: 0px 1px 3px 1px rgba(0, 0, 0, 0.15);\n",
              "      filter: drop-shadow(0px 1px 2px rgba(0, 0, 0, 0.3));\n",
              "      fill: #FFFFFF;\n",
              "    }\n",
              "  </style>\n",
              "\n",
              "      <script>\n",
              "        const buttonEl =\n",
              "          document.querySelector('#df-6f2a9174-83d7-46ca-8511-b19d5f150f48 button.colab-df-convert');\n",
              "        buttonEl.style.display =\n",
              "          google.colab.kernel.accessAllowed ? 'block' : 'none';\n",
              "\n",
              "        async function convertToInteractive(key) {\n",
              "          const element = document.querySelector('#df-6f2a9174-83d7-46ca-8511-b19d5f150f48');\n",
              "          const dataTable =\n",
              "            await google.colab.kernel.invokeFunction('convertToInteractive',\n",
              "                                                     [key], {});\n",
              "          if (!dataTable) return;\n",
              "\n",
              "          const docLinkHtml = 'Like what you see? Visit the ' +\n",
              "            '<a target=\"_blank\" href=https://colab.research.google.com/notebooks/data_table.ipynb>data table notebook</a>'\n",
              "            + ' to learn more about interactive tables.';\n",
              "          element.innerHTML = '';\n",
              "          dataTable['output_type'] = 'display_data';\n",
              "          await google.colab.output.renderOutput(dataTable, element);\n",
              "          const docLink = document.createElement('div');\n",
              "          docLink.innerHTML = docLinkHtml;\n",
              "          element.appendChild(docLink);\n",
              "        }\n",
              "      </script>\n",
              "    </div>\n",
              "  </div>\n",
              "  "
            ]
          },
          "metadata": {},
          "execution_count": 5
        }
      ]
    },
    {
      "cell_type": "code",
      "source": [
        "external.info()"
      ],
      "metadata": {
        "colab": {
          "base_uri": "https://localhost:8080/"
        },
        "id": "Dc2u0IjZotnd",
        "outputId": "bb10104e-1d00-4d03-cf04-00b2c1b620c7"
      },
      "execution_count": 6,
      "outputs": [
        {
          "output_type": "stream",
          "name": "stdout",
          "text": [
            "<class 'pandas.core.frame.DataFrame'>\n",
            "RangeIndex: 110527 entries, 0 to 110526\n",
            "Data columns (total 14 columns):\n",
            " #   Column           Non-Null Count   Dtype  \n",
            "---  ------           --------------   -----  \n",
            " 0   patient_id       110527 non-null  float64\n",
            " 1   appointment_id   110527 non-null  int64  \n",
            " 2   patient_gender   110527 non-null  object \n",
            " 3   scheduled_day    110527 non-null  object \n",
            " 4   appointment_day  110527 non-null  object \n",
            " 5   patient_age      110527 non-null  int64  \n",
            " 6   neighbourhood    110527 non-null  object \n",
            " 7   scholarship      110527 non-null  int64  \n",
            " 8   hypertension     110527 non-null  int64  \n",
            " 9   diabetes         110527 non-null  int64  \n",
            " 10  alcoholism       110527 non-null  int64  \n",
            " 11  handicap         110527 non-null  int64  \n",
            " 12  sms_received     110527 non-null  int64  \n",
            " 13  no_show          110527 non-null  object \n",
            "dtypes: float64(1), int64(8), object(5)\n",
            "memory usage: 11.8+ MB\n"
          ]
        }
      ]
    },
    {
      "cell_type": "code",
      "source": [
        "# ScheduledDay is displayed as object, but need to be converted to datetime\n",
        "external.scheduled_day = pd.to_datetime(external.scheduled_day)\n",
        "external.scheduled_day.head(2)"
      ],
      "metadata": {
        "colab": {
          "base_uri": "https://localhost:8080/"
        },
        "id": "Qv4cfuG8o1gB",
        "outputId": "67af3193-d3ae-4495-80b7-eb7d4a92ef60"
      },
      "execution_count": 7,
      "outputs": [
        {
          "output_type": "execute_result",
          "data": {
            "text/plain": [
              "0   2016-04-29 18:38:08+00:00\n",
              "1   2016-04-29 16:08:27+00:00\n",
              "Name: scheduled_day, dtype: datetime64[ns, UTC]"
            ]
          },
          "metadata": {},
          "execution_count": 7
        }
      ]
    },
    {
      "cell_type": "code",
      "source": [
        "external.appointment_day = pd.to_datetime(external.appointment_day)\n",
        "external.appointment_day.head(2)"
      ],
      "metadata": {
        "colab": {
          "base_uri": "https://localhost:8080/"
        },
        "id": "78GIDT_Bpfjh",
        "outputId": "a507d839-b743-418a-de17-5ad65496998d"
      },
      "execution_count": 8,
      "outputs": [
        {
          "output_type": "execute_result",
          "data": {
            "text/plain": [
              "0   2016-04-29 00:00:00+00:00\n",
              "1   2016-04-29 00:00:00+00:00\n",
              "Name: appointment_day, dtype: datetime64[ns, UTC]"
            ]
          },
          "metadata": {},
          "execution_count": 8
        }
      ]
    },
    {
      "cell_type": "code",
      "source": [
        "external.info()"
      ],
      "metadata": {
        "colab": {
          "base_uri": "https://localhost:8080/"
        },
        "id": "oWnZiNp3pkqp",
        "outputId": "224c4b5b-7d1f-415e-f670-01f8e272a75e"
      },
      "execution_count": 9,
      "outputs": [
        {
          "output_type": "stream",
          "name": "stdout",
          "text": [
            "<class 'pandas.core.frame.DataFrame'>\n",
            "RangeIndex: 110527 entries, 0 to 110526\n",
            "Data columns (total 14 columns):\n",
            " #   Column           Non-Null Count   Dtype              \n",
            "---  ------           --------------   -----              \n",
            " 0   patient_id       110527 non-null  float64            \n",
            " 1   appointment_id   110527 non-null  int64              \n",
            " 2   patient_gender   110527 non-null  object             \n",
            " 3   scheduled_day    110527 non-null  datetime64[ns, UTC]\n",
            " 4   appointment_day  110527 non-null  datetime64[ns, UTC]\n",
            " 5   patient_age      110527 non-null  int64              \n",
            " 6   neighbourhood    110527 non-null  object             \n",
            " 7   scholarship      110527 non-null  int64              \n",
            " 8   hypertension     110527 non-null  int64              \n",
            " 9   diabetes         110527 non-null  int64              \n",
            " 10  alcoholism       110527 non-null  int64              \n",
            " 11  handicap         110527 non-null  int64              \n",
            " 12  sms_received     110527 non-null  int64              \n",
            " 13  no_show          110527 non-null  object             \n",
            "dtypes: datetime64[ns, UTC](2), float64(1), int64(8), object(3)\n",
            "memory usage: 11.8+ MB\n"
          ]
        }
      ]
    },
    {
      "cell_type": "code",
      "source": [
        "# See if there are any missing values\n",
        "external.describe(include=\"all\");"
      ],
      "metadata": {
        "colab": {
          "base_uri": "https://localhost:8080/"
        },
        "id": "tWYfrHA3ps_H",
        "outputId": "ae9b9548-1039-4bcc-8894-ef585f88a209"
      },
      "execution_count": 10,
      "outputs": [
        {
          "output_type": "stream",
          "name": "stderr",
          "text": [
            "<ipython-input-10-e46ba460f62c>:2: FutureWarning: Treating datetime data as categorical rather than numeric in `.describe` is deprecated and will be removed in a future version of pandas. Specify `datetime_is_numeric=True` to silence this warning and adopt the future behavior now.\n",
            "  external.describe(include=\"all\");\n"
          ]
        }
      ]
    },
    {
      "cell_type": "markdown",
      "source": [
        "Cleaning up Age values (ex: -1)"
      ],
      "metadata": {
        "id": "DDmULNUEp4tF"
      }
    },
    {
      "cell_type": "code",
      "source": [
        "external.patient_age.value_counts()"
      ],
      "metadata": {
        "colab": {
          "base_uri": "https://localhost:8080/"
        },
        "id": "rb0vJiPEpw93",
        "outputId": "cb0d7b9e-0abd-4b80-8adf-c72663f0d0ac"
      },
      "execution_count": 11,
      "outputs": [
        {
          "output_type": "execute_result",
          "data": {
            "text/plain": [
              " 0      3539\n",
              " 1      2273\n",
              " 52     1746\n",
              " 49     1652\n",
              " 53     1651\n",
              "        ... \n",
              " 115       5\n",
              " 100       4\n",
              " 102       2\n",
              " 99        1\n",
              "-1         1\n",
              "Name: patient_age, Length: 104, dtype: int64"
            ]
          },
          "metadata": {},
          "execution_count": 11
        }
      ]
    },
    {
      "cell_type": "code",
      "source": [
        "external.drop(external.query(\"patient_age == -1\").index,inplace=True)"
      ],
      "metadata": {
        "id": "NiyLTzddp_qF"
      },
      "execution_count": 12,
      "outputs": []
    },
    {
      "cell_type": "code",
      "source": [
        "external.patient_age.describe()"
      ],
      "metadata": {
        "colab": {
          "base_uri": "https://localhost:8080/"
        },
        "id": "RtITARwiqGgm",
        "outputId": "44eb895f-2333-45bb-a9b5-694e4bf15db7"
      },
      "execution_count": 13,
      "outputs": [
        {
          "output_type": "execute_result",
          "data": {
            "text/plain": [
              "count    110526.000000\n",
              "mean         37.089219\n",
              "std          23.110026\n",
              "min           0.000000\n",
              "25%          18.000000\n",
              "50%          37.000000\n",
              "75%          55.000000\n",
              "max         115.000000\n",
              "Name: patient_age, dtype: float64"
            ]
          },
          "metadata": {},
          "execution_count": 13
        }
      ]
    },
    {
      "cell_type": "code",
      "source": [
        "external.duplicated().sum()"
      ],
      "metadata": {
        "colab": {
          "base_uri": "https://localhost:8080/"
        },
        "id": "HnvGe_XOqH0e",
        "outputId": "070819cb-8dfb-4c7f-ed99-64fdddfd73b8"
      },
      "execution_count": 14,
      "outputs": [
        {
          "output_type": "execute_result",
          "data": {
            "text/plain": [
              "0"
            ]
          },
          "metadata": {},
          "execution_count": 14
        }
      ]
    },
    {
      "cell_type": "code",
      "source": [
        "external.to_csv('External_Cleaned.csv', index=False)"
      ],
      "metadata": {
        "id": "2uB514bEdzdn"
      },
      "execution_count": 15,
      "outputs": []
    },
    {
      "cell_type": "code",
      "source": [
        "# Loading in dataset we were provided\n",
        "existing = pd.read_csv('https://raw.githubusercontent.com/hantswilliams/HHA-507-2022/main/competition/data/output_noshow1_balanced_2022-11-16.csv')\n",
        "existing\n"
      ],
      "metadata": {
        "colab": {
          "base_uri": "https://localhost:8080/",
          "height": 505
        },
        "id": "sujnlx3gqQSr",
        "outputId": "e1736ff6-6ccb-470d-afcf-ad377676a85a"
      },
      "execution_count": 16,
      "outputs": [
        {
          "output_type": "execute_result",
          "data": {
            "text/plain": [
              "            id   patient_id_2  practice_id  appointment_id  patient_id  \\\n",
              "0      1203271  325507_289930       325507         2661965      289930   \n",
              "1       739988  303801_600804       303801         3135811      600804   \n",
              "2       988588  325504_140961       325504          632551      140961   \n",
              "3       511872  303202_271430       303202         1397209      271430   \n",
              "4       906441  325502_320693       325502         2073212      320693   \n",
              "...        ...            ...          ...             ...         ...   \n",
              "99995  1112084  325505_339215       325505         2155885      339215   \n",
              "99996   664096  303801_589658       303801         3069414      589658   \n",
              "99997   551566  303205_270436       303205         1969680      270436   \n",
              "99998  1277662  325508_345572       325508         2283897      345572   \n",
              "99999  1441361   325512_46926       325512          696690       46926   \n",
              "\n",
              "      appointment_date appointment_start_time  appointment_duration  \\\n",
              "0           2021-01-11               18:30:00                     5   \n",
              "1           2020-07-14               12:30:00                    15   \n",
              "2           2020-05-14               10:32:00                    10   \n",
              "3           2020-06-24               14:10:00                    20   \n",
              "4           2021-03-09               17:40:00                    10   \n",
              "...                ...                    ...                   ...   \n",
              "99995       2021-07-09               17:40:00                    10   \n",
              "99996       2019-09-26               10:30:00                    15   \n",
              "99997       2021-07-20               14:30:00                    15   \n",
              "99998       2021-10-02               14:00:00                    10   \n",
              "99999       2020-07-30               15:10:00                     5   \n",
              "\n",
              "             appointment_type appointment_status  ... geocode_county  \\\n",
              "0         Rapid-COVID Antigen                  x  ...            NaN   \n",
              "1                         GYN                  4  ...            NaN   \n",
              "2             CLINICIAN VISIT                  4  ...            NaN   \n",
              "3                  WELL CHECK                  x  ...            NaN   \n",
              "4             CLINICIAN VISIT                  4  ...            NaN   \n",
              "...                       ...                ...  ...            ...   \n",
              "99995         CLINICIAN VISIT                  x  ...            NaN   \n",
              "99996                  Annual                  x  ...            NaN   \n",
              "99997  Established Sick Visit                  x  ...            NaN   \n",
              "99998         CLINICIAN VISIT                  x  ...            NaN   \n",
              "99999                 TELEMED                  x  ...            NaN   \n",
              "\n",
              "      geocode_state geocode_stusab geocode_latitude geocode_longitude  \\\n",
              "0               NaN            NaN              NaN               NaN   \n",
              "1               NaN            NaN              NaN               NaN   \n",
              "2               NaN            NaN              NaN               NaN   \n",
              "3               NaN            NaN              NaN               NaN   \n",
              "4               NaN            NaN              NaN               NaN   \n",
              "...             ...            ...              ...               ...   \n",
              "99995           NaN            NaN              NaN               NaN   \n",
              "99996           NaN            NaN              NaN               NaN   \n",
              "99997           NaN            NaN              NaN               NaN   \n",
              "99998           NaN            NaN              NaN               NaN   \n",
              "99999           NaN            NaN              NaN               NaN   \n",
              "\n",
              "       geocode_lengthlife  geocode_healthybehaviors geocode_clinicalcare  \\\n",
              "0                     NaN                       NaN                  NaN   \n",
              "1                     NaN                       NaN                  NaN   \n",
              "2                     NaN                       NaN                  NaN   \n",
              "3                     NaN                       NaN                  NaN   \n",
              "4                     NaN                       NaN                  NaN   \n",
              "...                   ...                       ...                  ...   \n",
              "99995                 NaN                       NaN                  NaN   \n",
              "99996                 NaN                       NaN                  NaN   \n",
              "99997                 NaN                       NaN                  NaN   \n",
              "99998                 NaN                       NaN                  NaN   \n",
              "99999                 NaN                       NaN                  NaN   \n",
              "\n",
              "      geocode_socioeconomic geocode_physicalenv  \n",
              "0                       NaN                 NaN  \n",
              "1                       NaN                 NaN  \n",
              "2                       NaN                 NaN  \n",
              "3                       NaN                 NaN  \n",
              "4                       NaN                 NaN  \n",
              "...                     ...                 ...  \n",
              "99995                   NaN                 NaN  \n",
              "99996                   NaN                 NaN  \n",
              "99997                   NaN                 NaN  \n",
              "99998                   NaN                 NaN  \n",
              "99999                   NaN                 NaN  \n",
              "\n",
              "[100000 rows x 47 columns]"
            ],
            "text/html": [
              "\n",
              "  <div id=\"df-0a372567-b03d-463e-afb1-8813b918a41f\">\n",
              "    <div class=\"colab-df-container\">\n",
              "      <div>\n",
              "<style scoped>\n",
              "    .dataframe tbody tr th:only-of-type {\n",
              "        vertical-align: middle;\n",
              "    }\n",
              "\n",
              "    .dataframe tbody tr th {\n",
              "        vertical-align: top;\n",
              "    }\n",
              "\n",
              "    .dataframe thead th {\n",
              "        text-align: right;\n",
              "    }\n",
              "</style>\n",
              "<table border=\"1\" class=\"dataframe\">\n",
              "  <thead>\n",
              "    <tr style=\"text-align: right;\">\n",
              "      <th></th>\n",
              "      <th>id</th>\n",
              "      <th>patient_id_2</th>\n",
              "      <th>practice_id</th>\n",
              "      <th>appointment_id</th>\n",
              "      <th>patient_id</th>\n",
              "      <th>appointment_date</th>\n",
              "      <th>appointment_start_time</th>\n",
              "      <th>appointment_duration</th>\n",
              "      <th>appointment_type</th>\n",
              "      <th>appointment_status</th>\n",
              "      <th>...</th>\n",
              "      <th>geocode_county</th>\n",
              "      <th>geocode_state</th>\n",
              "      <th>geocode_stusab</th>\n",
              "      <th>geocode_latitude</th>\n",
              "      <th>geocode_longitude</th>\n",
              "      <th>geocode_lengthlife</th>\n",
              "      <th>geocode_healthybehaviors</th>\n",
              "      <th>geocode_clinicalcare</th>\n",
              "      <th>geocode_socioeconomic</th>\n",
              "      <th>geocode_physicalenv</th>\n",
              "    </tr>\n",
              "  </thead>\n",
              "  <tbody>\n",
              "    <tr>\n",
              "      <th>0</th>\n",
              "      <td>1203271</td>\n",
              "      <td>325507_289930</td>\n",
              "      <td>325507</td>\n",
              "      <td>2661965</td>\n",
              "      <td>289930</td>\n",
              "      <td>2021-01-11</td>\n",
              "      <td>18:30:00</td>\n",
              "      <td>5</td>\n",
              "      <td>Rapid-COVID Antigen</td>\n",
              "      <td>x</td>\n",
              "      <td>...</td>\n",
              "      <td>NaN</td>\n",
              "      <td>NaN</td>\n",
              "      <td>NaN</td>\n",
              "      <td>NaN</td>\n",
              "      <td>NaN</td>\n",
              "      <td>NaN</td>\n",
              "      <td>NaN</td>\n",
              "      <td>NaN</td>\n",
              "      <td>NaN</td>\n",
              "      <td>NaN</td>\n",
              "    </tr>\n",
              "    <tr>\n",
              "      <th>1</th>\n",
              "      <td>739988</td>\n",
              "      <td>303801_600804</td>\n",
              "      <td>303801</td>\n",
              "      <td>3135811</td>\n",
              "      <td>600804</td>\n",
              "      <td>2020-07-14</td>\n",
              "      <td>12:30:00</td>\n",
              "      <td>15</td>\n",
              "      <td>GYN</td>\n",
              "      <td>4</td>\n",
              "      <td>...</td>\n",
              "      <td>NaN</td>\n",
              "      <td>NaN</td>\n",
              "      <td>NaN</td>\n",
              "      <td>NaN</td>\n",
              "      <td>NaN</td>\n",
              "      <td>NaN</td>\n",
              "      <td>NaN</td>\n",
              "      <td>NaN</td>\n",
              "      <td>NaN</td>\n",
              "      <td>NaN</td>\n",
              "    </tr>\n",
              "    <tr>\n",
              "      <th>2</th>\n",
              "      <td>988588</td>\n",
              "      <td>325504_140961</td>\n",
              "      <td>325504</td>\n",
              "      <td>632551</td>\n",
              "      <td>140961</td>\n",
              "      <td>2020-05-14</td>\n",
              "      <td>10:32:00</td>\n",
              "      <td>10</td>\n",
              "      <td>CLINICIAN VISIT</td>\n",
              "      <td>4</td>\n",
              "      <td>...</td>\n",
              "      <td>NaN</td>\n",
              "      <td>NaN</td>\n",
              "      <td>NaN</td>\n",
              "      <td>NaN</td>\n",
              "      <td>NaN</td>\n",
              "      <td>NaN</td>\n",
              "      <td>NaN</td>\n",
              "      <td>NaN</td>\n",
              "      <td>NaN</td>\n",
              "      <td>NaN</td>\n",
              "    </tr>\n",
              "    <tr>\n",
              "      <th>3</th>\n",
              "      <td>511872</td>\n",
              "      <td>303202_271430</td>\n",
              "      <td>303202</td>\n",
              "      <td>1397209</td>\n",
              "      <td>271430</td>\n",
              "      <td>2020-06-24</td>\n",
              "      <td>14:10:00</td>\n",
              "      <td>20</td>\n",
              "      <td>WELL CHECK</td>\n",
              "      <td>x</td>\n",
              "      <td>...</td>\n",
              "      <td>NaN</td>\n",
              "      <td>NaN</td>\n",
              "      <td>NaN</td>\n",
              "      <td>NaN</td>\n",
              "      <td>NaN</td>\n",
              "      <td>NaN</td>\n",
              "      <td>NaN</td>\n",
              "      <td>NaN</td>\n",
              "      <td>NaN</td>\n",
              "      <td>NaN</td>\n",
              "    </tr>\n",
              "    <tr>\n",
              "      <th>4</th>\n",
              "      <td>906441</td>\n",
              "      <td>325502_320693</td>\n",
              "      <td>325502</td>\n",
              "      <td>2073212</td>\n",
              "      <td>320693</td>\n",
              "      <td>2021-03-09</td>\n",
              "      <td>17:40:00</td>\n",
              "      <td>10</td>\n",
              "      <td>CLINICIAN VISIT</td>\n",
              "      <td>4</td>\n",
              "      <td>...</td>\n",
              "      <td>NaN</td>\n",
              "      <td>NaN</td>\n",
              "      <td>NaN</td>\n",
              "      <td>NaN</td>\n",
              "      <td>NaN</td>\n",
              "      <td>NaN</td>\n",
              "      <td>NaN</td>\n",
              "      <td>NaN</td>\n",
              "      <td>NaN</td>\n",
              "      <td>NaN</td>\n",
              "    </tr>\n",
              "    <tr>\n",
              "      <th>...</th>\n",
              "      <td>...</td>\n",
              "      <td>...</td>\n",
              "      <td>...</td>\n",
              "      <td>...</td>\n",
              "      <td>...</td>\n",
              "      <td>...</td>\n",
              "      <td>...</td>\n",
              "      <td>...</td>\n",
              "      <td>...</td>\n",
              "      <td>...</td>\n",
              "      <td>...</td>\n",
              "      <td>...</td>\n",
              "      <td>...</td>\n",
              "      <td>...</td>\n",
              "      <td>...</td>\n",
              "      <td>...</td>\n",
              "      <td>...</td>\n",
              "      <td>...</td>\n",
              "      <td>...</td>\n",
              "      <td>...</td>\n",
              "      <td>...</td>\n",
              "    </tr>\n",
              "    <tr>\n",
              "      <th>99995</th>\n",
              "      <td>1112084</td>\n",
              "      <td>325505_339215</td>\n",
              "      <td>325505</td>\n",
              "      <td>2155885</td>\n",
              "      <td>339215</td>\n",
              "      <td>2021-07-09</td>\n",
              "      <td>17:40:00</td>\n",
              "      <td>10</td>\n",
              "      <td>CLINICIAN VISIT</td>\n",
              "      <td>x</td>\n",
              "      <td>...</td>\n",
              "      <td>NaN</td>\n",
              "      <td>NaN</td>\n",
              "      <td>NaN</td>\n",
              "      <td>NaN</td>\n",
              "      <td>NaN</td>\n",
              "      <td>NaN</td>\n",
              "      <td>NaN</td>\n",
              "      <td>NaN</td>\n",
              "      <td>NaN</td>\n",
              "      <td>NaN</td>\n",
              "    </tr>\n",
              "    <tr>\n",
              "      <th>99996</th>\n",
              "      <td>664096</td>\n",
              "      <td>303801_589658</td>\n",
              "      <td>303801</td>\n",
              "      <td>3069414</td>\n",
              "      <td>589658</td>\n",
              "      <td>2019-09-26</td>\n",
              "      <td>10:30:00</td>\n",
              "      <td>15</td>\n",
              "      <td>Annual</td>\n",
              "      <td>x</td>\n",
              "      <td>...</td>\n",
              "      <td>NaN</td>\n",
              "      <td>NaN</td>\n",
              "      <td>NaN</td>\n",
              "      <td>NaN</td>\n",
              "      <td>NaN</td>\n",
              "      <td>NaN</td>\n",
              "      <td>NaN</td>\n",
              "      <td>NaN</td>\n",
              "      <td>NaN</td>\n",
              "      <td>NaN</td>\n",
              "    </tr>\n",
              "    <tr>\n",
              "      <th>99997</th>\n",
              "      <td>551566</td>\n",
              "      <td>303205_270436</td>\n",
              "      <td>303205</td>\n",
              "      <td>1969680</td>\n",
              "      <td>270436</td>\n",
              "      <td>2021-07-20</td>\n",
              "      <td>14:30:00</td>\n",
              "      <td>15</td>\n",
              "      <td>Established Sick Visit</td>\n",
              "      <td>x</td>\n",
              "      <td>...</td>\n",
              "      <td>NaN</td>\n",
              "      <td>NaN</td>\n",
              "      <td>NaN</td>\n",
              "      <td>NaN</td>\n",
              "      <td>NaN</td>\n",
              "      <td>NaN</td>\n",
              "      <td>NaN</td>\n",
              "      <td>NaN</td>\n",
              "      <td>NaN</td>\n",
              "      <td>NaN</td>\n",
              "    </tr>\n",
              "    <tr>\n",
              "      <th>99998</th>\n",
              "      <td>1277662</td>\n",
              "      <td>325508_345572</td>\n",
              "      <td>325508</td>\n",
              "      <td>2283897</td>\n",
              "      <td>345572</td>\n",
              "      <td>2021-10-02</td>\n",
              "      <td>14:00:00</td>\n",
              "      <td>10</td>\n",
              "      <td>CLINICIAN VISIT</td>\n",
              "      <td>x</td>\n",
              "      <td>...</td>\n",
              "      <td>NaN</td>\n",
              "      <td>NaN</td>\n",
              "      <td>NaN</td>\n",
              "      <td>NaN</td>\n",
              "      <td>NaN</td>\n",
              "      <td>NaN</td>\n",
              "      <td>NaN</td>\n",
              "      <td>NaN</td>\n",
              "      <td>NaN</td>\n",
              "      <td>NaN</td>\n",
              "    </tr>\n",
              "    <tr>\n",
              "      <th>99999</th>\n",
              "      <td>1441361</td>\n",
              "      <td>325512_46926</td>\n",
              "      <td>325512</td>\n",
              "      <td>696690</td>\n",
              "      <td>46926</td>\n",
              "      <td>2020-07-30</td>\n",
              "      <td>15:10:00</td>\n",
              "      <td>5</td>\n",
              "      <td>TELEMED</td>\n",
              "      <td>x</td>\n",
              "      <td>...</td>\n",
              "      <td>NaN</td>\n",
              "      <td>NaN</td>\n",
              "      <td>NaN</td>\n",
              "      <td>NaN</td>\n",
              "      <td>NaN</td>\n",
              "      <td>NaN</td>\n",
              "      <td>NaN</td>\n",
              "      <td>NaN</td>\n",
              "      <td>NaN</td>\n",
              "      <td>NaN</td>\n",
              "    </tr>\n",
              "  </tbody>\n",
              "</table>\n",
              "<p>100000 rows × 47 columns</p>\n",
              "</div>\n",
              "      <button class=\"colab-df-convert\" onclick=\"convertToInteractive('df-0a372567-b03d-463e-afb1-8813b918a41f')\"\n",
              "              title=\"Convert this dataframe to an interactive table.\"\n",
              "              style=\"display:none;\">\n",
              "        \n",
              "  <svg xmlns=\"http://www.w3.org/2000/svg\" height=\"24px\"viewBox=\"0 0 24 24\"\n",
              "       width=\"24px\">\n",
              "    <path d=\"M0 0h24v24H0V0z\" fill=\"none\"/>\n",
              "    <path d=\"M18.56 5.44l.94 2.06.94-2.06 2.06-.94-2.06-.94-.94-2.06-.94 2.06-2.06.94zm-11 1L8.5 8.5l.94-2.06 2.06-.94-2.06-.94L8.5 2.5l-.94 2.06-2.06.94zm10 10l.94 2.06.94-2.06 2.06-.94-2.06-.94-.94-2.06-.94 2.06-2.06.94z\"/><path d=\"M17.41 7.96l-1.37-1.37c-.4-.4-.92-.59-1.43-.59-.52 0-1.04.2-1.43.59L10.3 9.45l-7.72 7.72c-.78.78-.78 2.05 0 2.83L4 21.41c.39.39.9.59 1.41.59.51 0 1.02-.2 1.41-.59l7.78-7.78 2.81-2.81c.8-.78.8-2.07 0-2.86zM5.41 20L4 18.59l7.72-7.72 1.47 1.35L5.41 20z\"/>\n",
              "  </svg>\n",
              "      </button>\n",
              "      \n",
              "  <style>\n",
              "    .colab-df-container {\n",
              "      display:flex;\n",
              "      flex-wrap:wrap;\n",
              "      gap: 12px;\n",
              "    }\n",
              "\n",
              "    .colab-df-convert {\n",
              "      background-color: #E8F0FE;\n",
              "      border: none;\n",
              "      border-radius: 50%;\n",
              "      cursor: pointer;\n",
              "      display: none;\n",
              "      fill: #1967D2;\n",
              "      height: 32px;\n",
              "      padding: 0 0 0 0;\n",
              "      width: 32px;\n",
              "    }\n",
              "\n",
              "    .colab-df-convert:hover {\n",
              "      background-color: #E2EBFA;\n",
              "      box-shadow: 0px 1px 2px rgba(60, 64, 67, 0.3), 0px 1px 3px 1px rgba(60, 64, 67, 0.15);\n",
              "      fill: #174EA6;\n",
              "    }\n",
              "\n",
              "    [theme=dark] .colab-df-convert {\n",
              "      background-color: #3B4455;\n",
              "      fill: #D2E3FC;\n",
              "    }\n",
              "\n",
              "    [theme=dark] .colab-df-convert:hover {\n",
              "      background-color: #434B5C;\n",
              "      box-shadow: 0px 1px 3px 1px rgba(0, 0, 0, 0.15);\n",
              "      filter: drop-shadow(0px 1px 2px rgba(0, 0, 0, 0.3));\n",
              "      fill: #FFFFFF;\n",
              "    }\n",
              "  </style>\n",
              "\n",
              "      <script>\n",
              "        const buttonEl =\n",
              "          document.querySelector('#df-0a372567-b03d-463e-afb1-8813b918a41f button.colab-df-convert');\n",
              "        buttonEl.style.display =\n",
              "          google.colab.kernel.accessAllowed ? 'block' : 'none';\n",
              "\n",
              "        async function convertToInteractive(key) {\n",
              "          const element = document.querySelector('#df-0a372567-b03d-463e-afb1-8813b918a41f');\n",
              "          const dataTable =\n",
              "            await google.colab.kernel.invokeFunction('convertToInteractive',\n",
              "                                                     [key], {});\n",
              "          if (!dataTable) return;\n",
              "\n",
              "          const docLinkHtml = 'Like what you see? Visit the ' +\n",
              "            '<a target=\"_blank\" href=https://colab.research.google.com/notebooks/data_table.ipynb>data table notebook</a>'\n",
              "            + ' to learn more about interactive tables.';\n",
              "          element.innerHTML = '';\n",
              "          dataTable['output_type'] = 'display_data';\n",
              "          await google.colab.output.renderOutput(dataTable, element);\n",
              "          const docLink = document.createElement('div');\n",
              "          docLink.innerHTML = docLinkHtml;\n",
              "          element.appendChild(docLink);\n",
              "        }\n",
              "      </script>\n",
              "    </div>\n",
              "  </div>\n",
              "  "
            ]
          },
          "metadata": {},
          "execution_count": 16
        }
      ]
    },
    {
      "cell_type": "code",
      "source": [
        "existing.columns\n"
      ],
      "metadata": {
        "colab": {
          "base_uri": "https://localhost:8080/"
        },
        "id": "oh1C02E9qpZO",
        "outputId": "c233c14c-7918-4d66-c0b0-9006d73719fe"
      },
      "execution_count": 17,
      "outputs": [
        {
          "output_type": "execute_result",
          "data": {
            "text/plain": [
              "Index(['id', 'patient_id_2', 'practice_id', 'appointment_id', 'patient_id',\n",
              "       'appointment_date', 'appointment_start_time', 'appointment_duration',\n",
              "       'appointment_type', 'appointment_status', 'appointment_date_time',\n",
              "       'appointment_last_modified_date', 'appointment_scheduled_date',\n",
              "       'appointment_yosi_noshow1', 'appointment_yosi_noshow2', 'custom_client',\n",
              "       'custom_client_site', 'client_site', 'patient_dob', 'patient_zipcode_x',\n",
              "       'patient_gender', 'patient_age', 'data_collect', 'patient_age_groupper',\n",
              "       'appointment_date_qt', 'appointment_date_month',\n",
              "       'appointment_date_year', 'appintmentWithin3DayHoliday',\n",
              "       'appintmentWithin5DayHoliday', 'appintmentWithin7DayHoliday',\n",
              "       'appointment_start_time_groupper', 'appointment_start_time_hour',\n",
              "       'zipcode', 'weather_conditions', 'weather_icon', 'geocode_zip',\n",
              "       'geocode_city', 'geocode_county', 'geocode_state', 'geocode_stusab',\n",
              "       'geocode_latitude', 'geocode_longitude', 'geocode_lengthlife',\n",
              "       'geocode_healthybehaviors', 'geocode_clinicalcare',\n",
              "       'geocode_socioeconomic', 'geocode_physicalenv'],\n",
              "      dtype='object')"
            ]
          },
          "metadata": {},
          "execution_count": 17
        }
      ]
    },
    {
      "cell_type": "code",
      "source": [
        "existing.shape"
      ],
      "metadata": {
        "colab": {
          "base_uri": "https://localhost:8080/"
        },
        "id": "nQvlJ2-mqtpX",
        "outputId": "9258b594-486b-4f90-ac27-7a0e18aa3bca"
      },
      "execution_count": 18,
      "outputs": [
        {
          "output_type": "execute_result",
          "data": {
            "text/plain": [
              "(100000, 47)"
            ]
          },
          "metadata": {},
          "execution_count": 18
        }
      ]
    },
    {
      "cell_type": "code",
      "source": [
        "existing.dtypes"
      ],
      "metadata": {
        "colab": {
          "base_uri": "https://localhost:8080/"
        },
        "id": "6KSeK7r1qvGl",
        "outputId": "b762bac1-f0ab-4e35-b024-710fd37a47ad"
      },
      "execution_count": 19,
      "outputs": [
        {
          "output_type": "execute_result",
          "data": {
            "text/plain": [
              "id                                   int64\n",
              "patient_id_2                        object\n",
              "practice_id                          int64\n",
              "appointment_id                       int64\n",
              "patient_id                           int64\n",
              "appointment_date                    object\n",
              "appointment_start_time              object\n",
              "appointment_duration                 int64\n",
              "appointment_type                    object\n",
              "appointment_status                  object\n",
              "appointment_date_time               object\n",
              "appointment_last_modified_date      object\n",
              "appointment_scheduled_date          object\n",
              "appointment_yosi_noshow1            object\n",
              "appointment_yosi_noshow2            object\n",
              "custom_client                        int64\n",
              "custom_client_site                   int64\n",
              "client_site                         object\n",
              "patient_dob                         object\n",
              "patient_zipcode_x                   object\n",
              "patient_gender                      object\n",
              "patient_age                          int64\n",
              "data_collect                        object\n",
              "patient_age_groupper                object\n",
              "appointment_date_qt                  int64\n",
              "appointment_date_month               int64\n",
              "appointment_date_year                int64\n",
              "appintmentWithin3DayHoliday          int64\n",
              "appintmentWithin5DayHoliday          int64\n",
              "appintmentWithin7DayHoliday          int64\n",
              "appointment_start_time_groupper     object\n",
              "appointment_start_time_hour          int64\n",
              "zipcode                             object\n",
              "weather_conditions                  object\n",
              "weather_icon                        object\n",
              "geocode_zip                        float64\n",
              "geocode_city                        object\n",
              "geocode_county                      object\n",
              "geocode_state                       object\n",
              "geocode_stusab                      object\n",
              "geocode_latitude                   float64\n",
              "geocode_longitude                  float64\n",
              "geocode_lengthlife                  object\n",
              "geocode_healthybehaviors            object\n",
              "geocode_clinicalcare                object\n",
              "geocode_socioeconomic               object\n",
              "geocode_physicalenv                 object\n",
              "dtype: object"
            ]
          },
          "metadata": {},
          "execution_count": 19
        }
      ]
    },
    {
      "cell_type": "code",
      "source": [
        "m_external = external[[\n",
        "    'patient_age',\n",
        "    'patient_gender',\n",
        "    'scholarship',\n",
        "    'diabetes',\n",
        "    'alcoholism',\n",
        "    'hypertension'\n",
        "]]"
      ],
      "metadata": {
        "id": "-TbkNfiNiM28"
      },
      "execution_count": 20,
      "outputs": []
    },
    {
      "cell_type": "code",
      "source": [
        "m_existing = existing[[\n",
        "    'id',\n",
        "    'practice_id',\n",
        "    'appointment_type',\n",
        "    'patient_gender',\n",
        "    'zipcode',\n",
        "    'weather_conditions'\n",
        "]]"
      ],
      "metadata": {
        "id": "8WWXoiy9ilJe"
      },
      "execution_count": 21,
      "outputs": []
    },
    {
      "cell_type": "code",
      "source": [
        "# merged = pd.merge(m_external, m_existing)"
      ],
      "metadata": {
        "id": "Ye8Y-eipipod"
      },
      "execution_count": 22,
      "outputs": []
    },
    {
      "cell_type": "code",
      "source": [
        "# merged.to_csv('master.csv')"
      ],
      "metadata": {
        "id": "PMJVBnK9kE0A"
      },
      "execution_count": 23,
      "outputs": []
    }
  ]
}